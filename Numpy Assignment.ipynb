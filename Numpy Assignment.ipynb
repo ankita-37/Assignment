{
 "cells": [
  {
   "cell_type": "code",
   "execution_count": 1,
   "metadata": {},
   "outputs": [],
   "source": [
    "import numpy as np"
   ]
  },
  {
   "cell_type": "code",
   "execution_count": 2,
   "metadata": {},
   "outputs": [],
   "source": [
    "### Q1"
   ]
  },
  {
   "cell_type": "code",
   "execution_count": 3,
   "metadata": {},
   "outputs": [],
   "source": [
    "def get_matrix(vec):\n",
    "    matrix1=[[j**i for i in range(len(vec))] for j in vec]\n",
    "    matrix2=np.matrix(np.array([matrix1]).reshape(len(vec),len(vec)))\n",
    "    return matrix2"
   ]
  },
  {
   "cell_type": "code",
   "execution_count": 4,
   "metadata": {},
   "outputs": [
    {
     "data": {
      "text/plain": [
       "matrix([[ 1,  1,  1,  1],\n",
       "        [ 1,  2,  4,  8],\n",
       "        [ 1,  3,  9, 27],\n",
       "        [ 1,  4, 16, 64]])"
      ]
     },
     "execution_count": 4,
     "metadata": {},
     "output_type": "execute_result"
    }
   ],
   "source": [
    "vector=np.array([1,2,3,4])\n",
    "get_matrix(vector)"
   ]
  },
  {
   "cell_type": "code",
   "execution_count": 5,
   "metadata": {},
   "outputs": [],
   "source": [
    "### Q2"
   ]
  },
  {
   "cell_type": "code",
   "execution_count": 6,
   "metadata": {},
   "outputs": [],
   "source": [
    "def moving_average(arr1,k):\n",
    "    lt2=[]\n",
    "    for i in range(len(arr1)):\n",
    "        add=0\n",
    "        if len(arr1)-i>=k:\n",
    "            for j in range(k):\n",
    "                add=add+arr1[i+j]   \n",
    "            lt2.append(add/k)\n",
    "    return np.array(lt2)           "
   ]
  },
  {
   "cell_type": "code",
   "execution_count": 7,
   "metadata": {},
   "outputs": [
    {
     "name": "stdout",
     "output_type": "stream",
     "text": [
      "Enter value of n :- 13\n",
      "Enter value of k :- 3\n",
      "Enter the values of an array :-\n",
      "\n",
      "3\n",
      "5\n",
      "7\n",
      "2\n",
      "8\n",
      "10\n",
      "11\n",
      "65\n",
      "72\n",
      "81\n",
      "99\n",
      "100\n",
      "150\n"
     ]
    },
    {
     "data": {
      "text/plain": [
       "array([  5.        ,   4.66666667,   5.66666667,   6.66666667,\n",
       "         9.66666667,  28.66666667,  49.33333333,  72.66666667,\n",
       "        84.        ,  93.33333333, 116.33333333])"
      ]
     },
     "execution_count": 7,
     "metadata": {},
     "output_type": "execute_result"
    }
   ],
   "source": [
    "n=int(input(\"Enter value of n :- \"))\n",
    "k=int(input(\"Enter value of k :- \"))\n",
    "print(\"Enter the values of an array :-\\n\")\n",
    "arr=np.array([int(input()) for i in range(n) ])\n",
    "moving_average(arr,k)"
   ]
  }
 ],
 "metadata": {
  "kernelspec": {
   "display_name": "Python 3",
   "language": "python",
   "name": "python3"
  },
  "language_info": {
   "codemirror_mode": {
    "name": "ipython",
    "version": 3
   },
   "file_extension": ".py",
   "mimetype": "text/x-python",
   "name": "python",
   "nbconvert_exporter": "python",
   "pygments_lexer": "ipython3",
   "version": "3.7.6"
  }
 },
 "nbformat": 4,
 "nbformat_minor": 4
}
